{
 "cells": [
  {
   "cell_type": "markdown",
   "metadata": {},
   "source": [
    "# Bayesian Network"
   ]
  },
  {
   "cell_type": "markdown",
   "metadata": {},
   "source": [
    "## import libraries and APIs"
   ]
  },
  {
   "cell_type": "code",
   "execution_count": 9,
   "metadata": {},
   "outputs": [],
   "source": [
    "import numpy as np\n",
    "import pandas as pd\n",
    "import csv\n",
    "from pgmpy.estimators import MaximumLikelihoodEstimator\n",
    "from pgmpy.models import BayesianModel\n",
    "from pgmpy.inference import VariableElimination\n"
   ]
  },
  {
   "cell_type": "markdown",
   "metadata": {},
   "source": [
    "## read dataset "
   ]
  },
  {
   "cell_type": "code",
   "execution_count": 10,
   "metadata": {
    "scrolled": true
   },
   "outputs": [
    {
     "name": "stdout",
     "output_type": "stream",
     "text": [
      "Few examples from the dataset are given below\n",
      "   age  sex  cp  trestbps  chol  fbs  restecg  thalach  exang  oldpeak  slope  \\\n",
      "0   63    1   1       145   233    1        2      150      0      2.3      3   \n",
      "1   67    1   4       160   286    0        2      108      1      1.5      2   \n",
      "2   67    1   4       120   229    0        2      129      1      2.6      2   \n",
      "3   37    1   3       130   250    0        0      187      0      3.5      3   \n",
      "4   41    0   2       130   204    0        2      172      0      1.4      1   \n",
      "\n",
      "  ca thal  heartdisease  \n",
      "0  0    6             0  \n",
      "1  3    3             2  \n",
      "2  2    7             1  \n",
      "3  0    3             0  \n",
      "4  0    3             0  \n",
      "\n",
      "Attributes and datatypes\n",
      "age               int64\n",
      "sex               int64\n",
      "cp                int64\n",
      "trestbps          int64\n",
      "chol              int64\n",
      "fbs               int64\n",
      "restecg           int64\n",
      "thalach           int64\n",
      "exang             int64\n",
      "oldpeak         float64\n",
      "slope             int64\n",
      "ca               object\n",
      "thal             object\n",
      "heartdisease      int64\n",
      "dtype: object\n"
     ]
    }
   ],
   "source": [
    "attributes = ['age', 'sex', 'cp', 'trestbps', 'chol', 'fbs', 'restecg', 'thalach', 'exang', 'oldpeak', 'slope', 'ca', 'thal', 'heartdisease']\n",
    "\n",
    "heartDisease = pd.read_csv('P7_data7_heart.csv', names = attributes)\n",
    "heartDisease = heartDisease.replace('?', np.nan)\n",
    "\n",
    "print('Few examples from the dataset are given below')\n",
    "print(heartDisease.head())\n",
    "print('\\nAttributes and datatypes')\n",
    "print(heartDisease.dtypes)\n"
   ]
  },
  {
   "cell_type": "markdown",
   "metadata": {},
   "source": [
    "## model fitting"
   ]
  },
  {
   "cell_type": "code",
   "execution_count": 11,
   "metadata": {},
   "outputs": [
    {
     "name": "stdout",
     "output_type": "stream",
     "text": [
      "\n",
      "Learning conditional probability distributions using maximum likelihood estimators..\n"
     ]
    }
   ],
   "source": [
    "model = BayesianModel([])\n",
    "\n",
    "print('\\nLearning conditional probability distributions using maximum likelihood estimators..')\n",
    "model.fit(heartDisease, estimator = MaximumLikelihoodEstimator)\n",
    "\n",
    "\n"
   ]
  },
  {
   "cell_type": "code",
   "execution_count": 12,
   "metadata": {},
   "outputs": [
    {
     "name": "stdout",
     "output_type": "stream",
     "text": [
      "\n",
      "Inferencing with Bayesian Network: \n",
      "\n",
      "Computing the probability of heart disease given age = 28\n"
     ]
    },
    {
     "name": "stderr",
     "output_type": "stream",
     "text": [
      "Finding Elimination Order: : 100%|██████████| 7/7 [00:00<00:00, 4247.70it/s]\n",
      "Eliminating: exang: 100%|██████████| 7/7 [00:00<00:00, 443.33it/s]\n",
      "Finding Elimination Order: : 100%|██████████| 7/7 [00:00<00:00, 4984.74it/s]\n",
      "Eliminating: exang: 100%|██████████| 7/7 [00:00<00:00, 133.83it/s]"
     ]
    },
    {
     "name": "stdout",
     "output_type": "stream",
     "text": [
      "+-----------------+---------------------+\n",
      "| heartdisease    |   phi(heartdisease) |\n",
      "+=================+=====================+\n",
      "| heartdisease(0) |              0.4890 |\n",
      "+-----------------+---------------------+\n",
      "| heartdisease(1) |              0.2322 |\n",
      "+-----------------+---------------------+\n",
      "| heartdisease(2) |              0.1214 |\n",
      "+-----------------+---------------------+\n",
      "| heartdisease(3) |              0.0943 |\n",
      "+-----------------+---------------------+\n",
      "| heartdisease(4) |              0.0631 |\n",
      "+-----------------+---------------------+\n",
      "\n",
      "Computing the probability of heart disease given chol = 100\n",
      "+-----------------+---------------------+\n",
      "| heartdisease    |   phi(heartdisease) |\n",
      "+=================+=====================+\n",
      "| heartdisease(0) |              0.7342 |\n",
      "+-----------------+---------------------+\n",
      "| heartdisease(1) |              0.2658 |\n",
      "+-----------------+---------------------+\n",
      "| heartdisease(2) |              0.0000 |\n",
      "+-----------------+---------------------+\n",
      "| heartdisease(3) |              0.0000 |\n",
      "+-----------------+---------------------+\n",
      "| heartdisease(4) |              0.0000 |\n",
      "+-----------------+---------------------+\n"
     ]
    },
    {
     "name": "stderr",
     "output_type": "stream",
     "text": [
      "\n"
     ]
    }
   ],
   "source": [
    "\n",
    "print('\\nInferencing with Bayesian Network: ')\n",
    "HeartDisease_infer = VariableElimination(model)\n",
    "print('\\nComputing the probability of heart disease given age = 28')\n",
    "\n",
    "q = HeartDisease_infer.query(variables = ['heartdisease'], evidence = {'age': 60},joint=False)\n",
    "\n",
    "print(q['heartdisease'])\n",
    "print('\\nComputing the probability of heart disease given chol = 100')\n",
    "\n",
    "q = HeartDisease_infer.query(variables = ['heartdisease'], evidence = {'chol': 233},joint=False)\n",
    "print(q['heartdisease'])"
   ]
  },
  {
   "cell_type": "markdown",
   "metadata": {},
   "source": [
    "# ---PowerPC---"
   ]
  }
 ],
 "metadata": {
  "kernelspec": {
   "display_name": "Python 3",
   "language": "python",
   "name": "python3"
  },
  "language_info": {
   "codemirror_mode": {
    "name": "ipython",
    "version": 3
   },
   "file_extension": ".py",
   "mimetype": "text/x-python",
   "name": "python",
   "nbconvert_exporter": "python",
   "pygments_lexer": "ipython3",
   "version": "3.7.5"
  }
 },
 "nbformat": 4,
 "nbformat_minor": 2
}

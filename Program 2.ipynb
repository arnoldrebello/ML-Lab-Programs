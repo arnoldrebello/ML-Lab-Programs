{
 "cells": [
  {
   "cell_type": "markdown",
   "metadata": {},
   "source": [
    "## Program 2: The CANDIDATE ELIMINATION algorithm"
   ]
  },
  {
   "cell_type": "code",
   "execution_count": 1,
   "metadata": {},
   "outputs": [],
   "source": [
    "import csv"
   ]
  },
  {
   "cell_type": "markdown",
   "metadata": {},
   "source": [
    "## to get the  attribute values from each instance for the whole dataset"
   ]
  },
  {
   "cell_type": "code",
   "execution_count": 2,
   "metadata": {},
   "outputs": [],
   "source": [
    "def get_domains(examples):\n",
    "    d=[set() for i in examples[0]]\n",
    "    for x in examples:\n",
    "        for i,xi in enumerate(x): #i contains the index number and xi contains the value of x\n",
    "            d[i].add(xi) \n",
    "            \n",
    "    return[list(sorted(x)) for x in d]# returning array"
   ]
  },
  {
   "cell_type": "markdown",
   "metadata": {},
   "source": [
    "## supporting function to retain general or specific hypothesis"
   ]
  },
  {
   "cell_type": "code",
   "execution_count": 3,
   "metadata": {},
   "outputs": [],
   "source": [
    "def more_general(h1,h2):\n",
    "    moregeneralarray=[]\n",
    "    for x,y in zip(h1,h2): #zip is used to map similar index of multiple containers to use as single entity\n",
    "           mg=x==\"?\" or (x!=\"0\" and (x==y or y==\"0\"))\n",
    "           moregeneralarray.append(mg)\n",
    "    return all(moregeneralarray)"
   ]
  },
  {
   "cell_type": "markdown",
   "metadata": {},
   "source": [
    "## function to retain general or specific hypothesis"
   ]
  },
  {
   "cell_type": "code",
   "execution_count": 4,
   "metadata": {},
   "outputs": [],
   "source": [
    "def fulfills(example,hypothesis):\n",
    "      return more_general(hypothesis,example)"
   ]
  },
  {
   "cell_type": "markdown",
   "metadata": {},
   "source": [
    "## functions to replace the values with '?' and '0'"
   ]
  },
  {
   "cell_type": "code",
   "execution_count": 5,
   "metadata": {},
   "outputs": [],
   "source": [
    "def min_generalization(h,x):\n",
    "    newhypothesis=list(h)\n",
    "    for i in range(len(h)):\n",
    "        if not fulfills(x[i:i+1],h[i:i+1]):\n",
    "            newhypothesis[i]='?' if h[i]!='0' else x[i]\n",
    "    return [tuple(newhypothesis)]"
   ]
  },
  {
   "cell_type": "code",
   "execution_count": 6,
   "metadata": {},
   "outputs": [],
   "source": [
    "def min_specializations(h,domains,x):\n",
    "    results=[] \n",
    "    for i in range(len(h)):\n",
    "        if h[i]==\"?\":\n",
    "            for val in domains[i]:\n",
    "                if x[i]!=val:\n",
    "                    newhypothesis=h[:i]+(val,)+h[i+1:]\n",
    "                    results.append(newhypothesis)\n",
    "        elif h[i]!=\"0\":\n",
    "                    newhypothesis=h[:i]+('0',)+h[i+1:]\n",
    "                    results.append(newhypothesis)\n",
    "    return results"
   ]
  },
  {
   "cell_type": "markdown",
   "metadata": {},
   "source": [
    "## generalize function"
   ]
  },
  {
   "cell_type": "code",
   "execution_count": 7,
   "metadata": {},
   "outputs": [],
   "source": [
    "def generalize_S(x,G,S):\n",
    "    S_prev=list(S)\n",
    "    for s in S_prev:\n",
    "        if s not in S:\n",
    "            continue\n",
    "        if not fulfills(x,s):\n",
    "            S.remove(s)\n",
    "            Splus=min_generalizations(s,x)\n",
    "            S.update([h for h in Splus if any([more_general(g,h)for g in G])])\n",
    "            S.difference_update([h for h in S if any([more_general(h,h1)for h1 in S if h!=h1])])\n",
    "    return S"
   ]
  },
  {
   "cell_type": "markdown",
   "metadata": {},
   "source": [
    "## specialize function"
   ]
  },
  {
   "cell_type": "code",
   "execution_count": 8,
   "metadata": {},
   "outputs": [],
   "source": [
    "def specialize_G(x,domains,G,S):\n",
    "    G_prev=list(G)\n",
    "    for g in G_prev:\n",
    "        if g not in G:\n",
    "            continue\n",
    "        if fulfills(x,g):\n",
    "            G.remove(g)\n",
    "            Gminus=min_specializations(g,domains,x)\n",
    "            G.update([h for h in Gminus if any([more_general(h,s)for s in S])])\n",
    "            G.difference_update([h for h in G if any([more_general(g1,h)for g1 in G if h!=g1])])\n",
    "    return G"
   ]
  },
  {
   "cell_type": "markdown",
   "metadata": {},
   "source": [
    "## Algorithm"
   ]
  },
  {
   "cell_type": "code",
   "execution_count": 9,
   "metadata": {},
   "outputs": [],
   "source": [
    "def candidate_elimination(examples):\n",
    "    domains=get_domains(examples)[:-1]\n",
    "    n=len(domains)\n",
    "    print(domains)\n",
    "    G=set([(\"?\",)*n])\n",
    "    S=set([(\"0\",)*n])\n",
    "    print(\"Maximally specific hypotheses - S\")\n",
    "    print(\"Maximally general hypotheses - G\" )\n",
    "    i=0\n",
    "    print(\"\\n S[0]:\",str(S),\"\\nG[0]:\",str(G))\n",
    "    for xcx in examples:            # for each instance\n",
    "        i=i+1\n",
    "        x,cx=xcx[:-1],xcx[-1]\n",
    "        if cx=='Y':\n",
    "            G={g for g in G if fulfills(x,g)}\n",
    "            S=generalize_S(x,G,S)\n",
    "        else:\n",
    "            S={s for s in S if not fulfills(x,s)}\n",
    "            G=specialize_G(x,domains,G,S)\n",
    "        print(\"\\nS[{0}]:\".format(i),S)\n",
    "        print(\"G[{0}]):\".format(i),G)\n",
    "       \n",
    "    return"
   ]
  },
  {
   "cell_type": "markdown",
   "metadata": {},
   "source": [
    "## import data and call candidate elimination"
   ]
  },
  {
   "cell_type": "code",
   "execution_count": 10,
   "metadata": {
    "scrolled": true
   },
   "outputs": [
    {
     "name": "stdout",
     "output_type": "stream",
     "text": [
      "[['Rainy', 'Sunny'], ['Cold', 'Warm'], ['High', 'Normal'], ['Strong'], ['Cool', 'Warm'], ['Change', 'Same']]\n",
      "Maximally specific hypotheses - S\n",
      "Maximally general hypotheses - G\n",
      "\n",
      " S[0]: {('0', '0', '0', '0', '0', '0')} \n",
      "G[0]: {('?', '?', '?', '?', '?', '?')}\n",
      "\n",
      "S[1]: {('0', '0', '0', '0', '0', '0')}\n",
      "G[1]): {('?', '?', '?', '?', '?', 'Change'), ('?', '?', 'High', '?', '?', '?'), ('Rainy', '?', '?', '?', '?', '?'), ('?', 'Cold', '?', '?', '?', '?'), ('?', '?', '?', '?', 'Cool', '?')}\n",
      "\n",
      "S[2]: {('0', '0', '0', '0', '0', '0')}\n",
      "G[2]): {('?', '?', '?', '?', '?', 'Change'), ('Rainy', '?', '?', '?', '?', '?'), ('?', 'Cold', '?', '?', '?', '?'), ('?', '?', '?', '?', 'Cool', '?')}\n",
      "\n",
      "S[3]: {('0', '0', '0', '0', '0', '0')}\n",
      "G[3]): {('?', '?', 'Normal', '?', '?', 'Change'), ('?', 'Warm', '?', '?', '?', 'Change'), ('?', 'Cold', 'Normal', '?', '?', '?'), ('Sunny', 'Cold', '?', '?', '?', '?'), ('Rainy', 'Warm', '?', '?', '?', '?'), ('Rainy', '?', 'Normal', '?', '?', '?'), ('?', '?', '?', '?', 'Cool', '?'), ('Sunny', '?', '?', '?', '?', 'Change'), ('Rainy', '?', '?', '?', '?', 'Same'), ('?', 'Cold', '?', '?', '?', 'Same')}\n",
      "\n",
      "S[4]: {('0', '0', '0', '0', '0', '0')}\n",
      "G[4]): {('?', '?', 'Normal', '?', '?', 'Change'), ('Sunny', 'Cold', '?', '?', '?', '?'), ('?', '?', 'Normal', '?', 'Cool', '?'), ('Sunny', '?', '?', '?', 'Warm', 'Change'), ('Rainy', '?', '?', '?', '?', 'Same'), ('?', 'Cold', '?', '?', 'Cool', '?'), ('?', 'Warm', '?', '?', 'Warm', 'Change'), ('Rainy', '?', '?', '?', 'Cool', '?'), ('?', '?', '?', '?', 'Cool', 'Same'), ('Rainy', 'Warm', '?', '?', '?', '?'), ('Rainy', '?', 'Normal', '?', '?', '?'), ('?', 'Cold', 'Normal', '?', '?', '?'), ('?', 'Cold', '?', '?', '?', 'Same')}\n"
     ]
    }
   ],
   "source": [
    "with open('candata.csv','r') as csvFile:\n",
    "    examples=[tuple(line) for line in csv.reader(csvFile)]\n",
    "candidate_elimination(examples)"
   ]
  },
  {
   "cell_type": "markdown",
   "metadata": {},
   "source": [
    "## -----PowerPC-----"
   ]
  }
 ],
 "metadata": {
  "kernelspec": {
   "display_name": "Python 3",
   "language": "python",
   "name": "python3"
  },
  "language_info": {
   "codemirror_mode": {
    "name": "ipython",
    "version": 3
   },
   "file_extension": ".py",
   "mimetype": "text/x-python",
   "name": "python",
   "nbconvert_exporter": "python",
   "pygments_lexer": "ipython3",
   "version": "3.7.4"
  }
 },
 "nbformat": 4,
 "nbformat_minor": 2
}

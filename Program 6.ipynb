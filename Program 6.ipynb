{
 "cells": [
  {
   "cell_type": "markdown",
   "metadata": {},
   "source": [
    "## Program 6: Naive Bayesian Classifier"
   ]
  },
  {
   "cell_type": "markdown",
   "metadata": {},
   "source": [
    "## import libraries and APIs"
   ]
  },
  {
   "cell_type": "code",
   "execution_count": 19,
   "metadata": {},
   "outputs": [],
   "source": [
    "import pandas as pd\n",
    "from sklearn.model_selection import train_test_split\n",
    "from sklearn.feature_extraction.text import CountVectorizer\n",
    "from sklearn import metrics\n",
    "from sklearn.naive_bayes import MultinomialNB"
   ]
  },
  {
   "cell_type": "markdown",
   "metadata": {},
   "source": [
    "## read data with label encoding"
   ]
  },
  {
   "cell_type": "code",
   "execution_count": 20,
   "metadata": {},
   "outputs": [
    {
     "name": "stdout",
     "output_type": "stream",
     "text": [
      "The dimensions of the dataset (18, 2)\n",
      "0                    I love this sandwich\\n\n",
      "1                  This is an amazing place\n",
      "2        I feel very good about these beers\n",
      "3                      This is my best work\n",
      "4                      What an awesome view\n",
      "5             I do not like this restaurant\n",
      "6                  I am tired of this stuff\n",
      "7                    I can't deal with this\n",
      "8                      He is my sworn enemy\n",
      "9                       My boss is horrible\n",
      "10                 This is an awesome place\n",
      "11    I do not like the taste of this juice\n",
      "12                          I love to dance\n",
      "13        I am sick and tired of this place\n",
      "14                     What a great holiday\n",
      "15           That is a bad locality to stay\n",
      "16           We will have good fun tomorrow\n",
      "17         I went to my enemy's house today\n",
      "Name: message, dtype: object\n",
      "0     1\n",
      "1     1\n",
      "2     1\n",
      "3     1\n",
      "4     1\n",
      "5     0\n",
      "6     0\n",
      "7     0\n",
      "8     0\n",
      "9     0\n",
      "10    1\n",
      "11    0\n",
      "12    0\n",
      "13    0\n",
      "14    1\n",
      "15    0\n",
      "16    1\n",
      "17    0\n",
      "Name: labelnum, dtype: int64\n"
     ]
    }
   ],
   "source": [
    "msg = pd.read_csv('6data.csv',names=['message','label'])\n",
    "print('The dimensions of the dataset',msg.shape)\n",
    "msg['labelnum']=msg.label.map({'pos':1,'neg':0})\n",
    "X=msg.message\n",
    "Y=msg.labelnum\n",
    "print(X)\n",
    "print(Y)"
   ]
  },
  {
   "cell_type": "markdown",
   "metadata": {},
   "source": [
    "## splitting the data using train_test_split"
   ]
  },
  {
   "cell_type": "code",
   "execution_count": 21,
   "metadata": {},
   "outputs": [
    {
     "name": "stdout",
     "output_type": "stream",
     "text": [
      "(5,)\n",
      "(13,)\n",
      "(5,)\n",
      "(13,)\n"
     ]
    }
   ],
   "source": [
    "xtrain, xtest, ytrain,ytest=train_test_split(X,Y)\n",
    "print(xtest.shape)\n",
    "print(xtrain.shape)\n",
    "print(ytest.shape)\n",
    "print(ytrain.shape)"
   ]
  },
  {
   "cell_type": "markdown",
   "metadata": {},
   "source": [
    "## count vectorizer to convert text into a matrix of tokens"
   ]
  },
  {
   "cell_type": "code",
   "execution_count": 22,
   "metadata": {},
   "outputs": [
    {
     "name": "stdout",
     "output_type": "stream",
     "text": [
      "['about', 'am', 'amazing', 'an', 'and', 'awesome', 'beers', 'boss', 'dance', 'do', 'enemy', 'feel', 'fun', 'good', 'have', 'he', 'horrible', 'house', 'is', 'juice', 'like', 'love', 'my', 'not', 'of', 'place', 'restaurant', 'sandwich', 'sick', 'stuff', 'sworn', 'taste', 'the', 'these', 'this', 'tired', 'to', 'today', 'tomorrow', 'very', 'view', 'we', 'went', 'what', 'will']\n"
     ]
    }
   ],
   "source": [
    "count_vect = CountVectorizer()\n",
    "xtrain_dtm = count_vect.fit_transform(xtrain) # learn a vocabulary and convert to matrix\n",
    "xtest_dtm = count_vect.transform(xtest)  #converts into a matrix\n",
    "print(count_vect.get_feature_names()) #Array mapping from feature integer indices to feature name\n",
    "df=pd.DataFrame(xtrain_dtm.toarray(),columns=count_vect.get_feature_names()) #dataframe is a two dimensional structure"
   ]
  },
  {
   "cell_type": "markdown",
   "metadata": {},
   "source": [
    "## label encoding"
   ]
  },
  {
   "cell_type": "code",
   "execution_count": 23,
   "metadata": {},
   "outputs": [
    {
     "name": "stdout",
     "output_type": "stream",
     "text": [
      "    about  am  amazing  an  and  awesome  beers  boss  dance  do  ...  tired  \\\n",
      "0       0   0        0   0    0        0      0     1      0   0  ...      0   \n",
      "1       0   0        0   0    0        0      0     0      0   1  ...      0   \n",
      "2       0   0        0   0    0        0      0     0      0   1  ...      0   \n",
      "3       0   0        0   1    0        1      0     0      0   0  ...      0   \n",
      "4       0   1        0   0    1        0      0     0      0   0  ...      1   \n",
      "5       0   0        0   0    0        0      0     0      1   0  ...      0   \n",
      "6       1   0        0   0    0        0      1     0      0   0  ...      0   \n",
      "7       0   1        0   0    0        0      0     0      0   0  ...      1   \n",
      "8       0   0        1   1    0        0      0     0      0   0  ...      0   \n",
      "9       0   0        0   0    0        0      0     0      0   0  ...      0   \n",
      "10      0   0        0   0    0        0      0     0      0   0  ...      0   \n",
      "11      0   0        0   0    0        0      0     0      0   0  ...      0   \n",
      "12      0   0        0   0    0        0      0     0      0   0  ...      0   \n",
      "\n",
      "    to  today  tomorrow  very  view  we  went  what  will  \n",
      "0    0      0         0     0     0   0     0     0     0  \n",
      "1    0      0         0     0     0   0     0     0     0  \n",
      "2    0      0         0     0     0   0     0     0     0  \n",
      "3    0      0         0     0     1   0     0     1     0  \n",
      "4    0      0         0     0     0   0     0     0     0  \n",
      "5    1      0         0     0     0   0     0     0     0  \n",
      "6    0      0         0     1     0   0     0     0     0  \n",
      "7    0      0         0     0     0   0     0     0     0  \n",
      "8    0      0         0     0     0   0     0     0     0  \n",
      "9    0      0         0     0     0   0     0     0     0  \n",
      "10   0      0         0     0     0   0     0     0     0  \n",
      "11   0      0         1     0     0   1     0     0     1  \n",
      "12   1      1         0     0     0   0     1     0     0  \n",
      "\n",
      "[13 rows x 45 columns]\n",
      "  (0, 22)\t1\n",
      "  (0, 7)\t1\n",
      "  (0, 18)\t1\n",
      "  (0, 16)\t1\n",
      "  (1, 9)\t1\n",
      "  (1, 23)\t1\n",
      "  (1, 20)\t1\n",
      "  (1, 32)\t1\n",
      "  (1, 31)\t1\n",
      "  (1, 24)\t1\n",
      "  (1, 34)\t1\n",
      "  (1, 19)\t1\n",
      "  (2, 9)\t1\n",
      "  (2, 23)\t1\n",
      "  (2, 20)\t1\n",
      "  (2, 34)\t1\n",
      "  (2, 26)\t1\n",
      "  (3, 43)\t1\n",
      "  (3, 3)\t1\n",
      "  (3, 5)\t1\n",
      "  (3, 40)\t1\n",
      "  (4, 24)\t1\n",
      "  (4, 34)\t1\n",
      "  (4, 1)\t1\n",
      "  (4, 28)\t1\n",
      "  :\t:\n",
      "  (8, 18)\t1\n",
      "  (8, 34)\t1\n",
      "  (8, 3)\t1\n",
      "  (8, 25)\t1\n",
      "  (8, 2)\t1\n",
      "  (9, 22)\t1\n",
      "  (9, 18)\t1\n",
      "  (9, 15)\t1\n",
      "  (9, 30)\t1\n",
      "  (9, 10)\t1\n",
      "  (10, 34)\t1\n",
      "  (10, 21)\t1\n",
      "  (10, 27)\t1\n",
      "  (11, 13)\t1\n",
      "  (11, 41)\t1\n",
      "  (11, 44)\t1\n",
      "  (11, 14)\t1\n",
      "  (11, 12)\t1\n",
      "  (11, 38)\t1\n",
      "  (12, 22)\t1\n",
      "  (12, 36)\t1\n",
      "  (12, 10)\t1\n",
      "  (12, 42)\t1\n",
      "  (12, 17)\t1\n",
      "  (12, 37)\t1\n"
     ]
    }
   ],
   "source": [
    "print(df)\n",
    "print(xtrain_dtm)\n",
    "clf = MultinomialNB().fit(xtrain_dtm,ytrain)\n",
    "predicted = clf.predict(xtest_dtm)"
   ]
  },
  {
   "cell_type": "markdown",
   "metadata": {},
   "source": [
    "## print accuracy score and confusion matrix"
   ]
  },
  {
   "cell_type": "code",
   "execution_count": 24,
   "metadata": {},
   "outputs": [
    {
     "name": "stdout",
     "output_type": "stream",
     "text": [
      "Accuracy metrics\n",
      "Accuracy of the classifier is 0.8\n",
      "Confusion Matrix\n",
      "[[2 0]\n",
      " [1 2]]\n"
     ]
    }
   ],
   "source": [
    "print('Accuracy metrics')\n",
    "print('Accuracy of the classifier is',metrics.accuracy_score(ytest,predicted))\n",
    "print('Confusion Matrix')\n",
    "print(metrics.confusion_matrix(ytest,predicted))"
   ]
  },
  {
   "cell_type": "markdown",
   "metadata": {},
   "source": [
    "## -----PowerPC-----"
   ]
  }
 ],
 "metadata": {
  "kernelspec": {
   "display_name": "Python 3",
   "language": "python",
   "name": "python3"
  },
  "language_info": {
   "codemirror_mode": {
    "name": "ipython",
    "version": 3
   },
   "file_extension": ".py",
   "mimetype": "text/x-python",
   "name": "python",
   "nbconvert_exporter": "python",
   "pygments_lexer": "ipython3",
   "version": "3.7.4"
  }
 },
 "nbformat": 4,
 "nbformat_minor": 2
}
